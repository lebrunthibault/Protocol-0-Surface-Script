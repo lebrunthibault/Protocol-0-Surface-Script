{
 "cells": [
  {
   "cell_type": "code",
   "execution_count": 4,
   "metadata": {},
   "outputs": [
    {
     "name": "stdout",
     "output_type": "stream",
     "text": [
      "<__main__.Example instance at 0x04FC4620>\n",
      "<__main__.Example instance at 0x04FC4620>\n",
      "<__main__.Example instance at 0x04FC4620>\n",
      "<__main__.Example instance at 0x04FC4620>\n",
      "[<function <lambda> at 0x04FCE0B0>, <function <lambda> at 0x04FCE630>, <function <lambda> at 0x04FCE230>]\n",
      "<__main__.Example instance at 0x04FC4620>\n",
      "exec example\n",
      "callback 1\n",
      "callback 2\n",
      "callback 3\n"
     ]
    }
   ],
   "source": [
    "from a_protocol_0.utils.decorators import subject_slot, has_callback_queue, retry\n",
    "from __future__ import print_function\n",
    "\n",
    "class Example:\n",
    "    @has_callback_queue\n",
    "    def example(self):\n",
    "        print(\"exec example\")\n",
    "   \n",
    "e = Example()\n",
    "e.example._callbacks.append(lambda: print(\"callback 1\"))\n",
    "e.example._callbacks.append(lambda: print(\"callback 2\"))\n",
    "e.example._callbacks.append(lambda: print(\"callback 3\"))\n",
    "\n",
    "\n",
    "print(e.example._callbacks)\n",
    "e.example()"
   ]
  }
 ],
 "metadata": {
  "kernelspec": {
   "display_name": "Python 2",
   "language": "python",
   "name": "python2"
  },
  "language_info": {
   "codemirror_mode": {
    "name": "ipython",
    "version": 2
   },
   "file_extension": ".py",
   "mimetype": "text/x-python",
   "name": "python",
   "nbconvert_exporter": "python",
   "pygments_lexer": "ipython2",
   "version": "2.7.18"
  }
 },
 "nbformat": 4,
 "nbformat_minor": 2
}
