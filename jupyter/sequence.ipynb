{
 "cells": [
  {
   "cell_type": "code",
   "execution_count": 1,
   "metadata": {},
   "outputs": [
    {
     "name": "stdout",
     "output_type": "stream",
     "text": [
      "P0 SongManager: \n",
      "P0 TrackManager: \n",
      "P0 - info: Protocol0 script loaded\n"
     ]
    },
    {
     "ename": "TypeError",
     "evalue": "select_track() got an unexpected keyword argument 'sync'",
     "output_type": "error",
     "traceback": [
      "\u001b[1;31m---------------------------------------------------------------------------\u001b[0m",
      "\u001b[1;31mTypeError\u001b[0m                                 Traceback (most recent call last)",
      "\u001b[1;32m<ipython-input-1-968fa7dfd5e1>\u001b[0m in \u001b[0;36m<module>\u001b[1;34m()\u001b[0m\n\u001b[0;32m     40\u001b[0m \u001b[1;31m#     seq.done()()\u001b[0m\u001b[1;33m\u001b[0m\u001b[1;33m\u001b[0m\u001b[0m\n\u001b[0;32m     41\u001b[0m \u001b[1;33m\u001b[0m\u001b[0m\n\u001b[1;32m---> 42\u001b[1;33m     \u001b[0mseq\u001b[0m \u001b[1;33m=\u001b[0m \u001b[0mp0\u001b[0m\u001b[1;33m.\u001b[0m\u001b[0mprotocol0_song\u001b[0m\u001b[1;33m.\u001b[0m\u001b[0mselect_track\u001b[0m\u001b[1;33m(\u001b[0m\u001b[0mEmptyModule\u001b[0m\u001b[1;33m(\u001b[0m\u001b[1;33m)\u001b[0m\u001b[1;33m,\u001b[0m \u001b[0msync\u001b[0m\u001b[1;33m=\u001b[0m\u001b[0mTrue\u001b[0m\u001b[1;33m)\u001b[0m\u001b[1;33m\u001b[0m\u001b[0m\n\u001b[0m\u001b[0;32m     43\u001b[0m     \u001b[1;32mprint\u001b[0m\u001b[1;33m(\u001b[0m\u001b[0mseq\u001b[0m\u001b[1;33m.\u001b[0m\u001b[0m_auto_start\u001b[0m\u001b[1;33m)\u001b[0m\u001b[1;33m\u001b[0m\u001b[0m\n\u001b[0;32m     44\u001b[0m \u001b[1;33m\u001b[0m\u001b[0m\n",
      "\u001b[1;31mTypeError\u001b[0m: select_track() got an unexpected keyword argument 'sync'"
     ]
    }
   ],
   "source": [
    "from functools import partial\n",
    "from a_protocol_0.sequence.Sequence import Sequence\n",
    "from __future__ import print_function\n",
    "\n",
    "from a_protocol_0 import Protocol0, EmptyModule\n",
    "p0 = Protocol0(EmptyModule(is_false=False), init_song=False)\n",
    "\n",
    "def seq_creator(i):\n",
    "    if i == 0:\n",
    "        return None\n",
    "    return Sequence().add(partial(seq_creator, i - 1), name=\"seq %s\" % i).done()\n",
    "\n",
    "def check_function(res):\n",
    "    print(\"check and return %s\" % res)\n",
    "    return res\n",
    "\n",
    "def check_seq(res):\n",
    "    seq = Sequence(name=\"check seq\")\n",
    "    seq.add(partial(check_function, res))\n",
    "    return seq.done()\n",
    "\n",
    "def inner_print_seq(message):\n",
    "    seq = Sequence(name=\"inner print seq\")\n",
    "    seq.add(lambda: print(message))\n",
    "    return seq.done()\n",
    "\n",
    "def print_seq(message):\n",
    "    seq = Sequence(name=\"print seq\")\n",
    "    seq.add(partial(inner_print_seq, message))\n",
    "    return seq.done()\n",
    "\n",
    "with p0.component_guard():\n",
    "#     seq = Sequence(name=\"test seq\")\n",
    "#     seq.add(partial(seq_creator, 2))\n",
    "#     seq.done()()\n",
    "#     check_seq(True)()\n",
    "#     print(\"------\")\n",
    "    \n",
    "#     seq = Sequence(name=\"main\").add(partial(print_seq, \"titi messaged\"), do_if=partial(check_seq, True))\n",
    "#     seq.done()()\n",
    "\n",
    "    seq = p0.protocol0_song.select_track(EmptyModule(), sync=True)\n",
    "    print(seq._auto_start)\n",
    "    \n",
    "# p0.actionManager.action_scroll_tracks(go_next=True)\n"
   ]
  },
  {
   "cell_type": "code",
   "execution_count": null,
   "metadata": {},
   "outputs": [],
   "source": [
    "from __future__ import print_function\n",
    "\n",
    "class Example:\n",
    "    @has_callback_queue\n",
    "    def example(var):\n",
    "        print(\"exec example\")\n",
    "        \n",
    "e = Example()\n",
    "e.example._callbacks.append(lambda: log(\"callback 1\"))\n",
    "e.example._callbacks.append(lambda: log(\"callback 2\"))\n",
    "\n",
    "with p0.component_guard():\n",
    "    seq = Sequence(auto_start=True)\n",
    "    seq.add(lambda: print(\"seq start\"), complete_on=e.example)\n",
    "    seq.add(lambda: print(\"seq end\"))\n",
    "    seq.done()()"
   ]
  }
 ],
 "metadata": {
  "kernelspec": {
   "display_name": "Python 2",
   "language": "python",
   "name": "python2"
  },
  "language_info": {
   "codemirror_mode": {
    "name": "ipython",
    "version": 2
   },
   "file_extension": ".py",
   "mimetype": "text/x-python",
   "name": "python",
   "nbconvert_exporter": "python",
   "pygments_lexer": "ipython2",
   "version": "2.7.18"
  }
 },
 "nbformat": 4,
 "nbformat_minor": 2
}
