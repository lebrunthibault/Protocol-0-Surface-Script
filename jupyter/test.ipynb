{
 "cells": [
  {
   "cell_type": "code",
   "execution_count": 11,
   "metadata": {},
   "outputs": [
    {
     "name": "stdout",
     "output_type": "stream",
     "text": [
      "deque([<bound method Test.toto of <__main__.Test instance at 0x0586F558>>, <bound method Test.toto of <__main__.Test instance at 0x0586F9B8>>])\n"
     ]
    }
   ],
   "source": [
    "from collections import defaultdict, deque\n",
    "\n",
    "\n",
    "callbacks = deque()\n",
    "\n",
    "\n",
    "class Test:\n",
    "    def toto():\n",
    "        pass\n",
    "    \n",
    "a = Test()\n",
    "b = Test()\n",
    "\n",
    "def add_callback(callback):\n",
    "    if callback in callbacks:\n",
    "        return\n",
    "    else:\n",
    "        callbacks.append(callback)\n",
    "\n",
    "add_callback(a.toto)\n",
    "add_callback(b.toto)\n",
    "\n",
    "        \n",
    "print(callbacks)\n",
    "callbacks"
   ]
  }
 ],
 "metadata": {
  "kernelspec": {
   "display_name": "Python 2",
   "language": "python",
   "name": "python2"
  },
  "language_info": {
   "codemirror_mode": {
    "name": "ipython",
    "version": 2
   },
   "file_extension": ".py",
   "mimetype": "text/x-python",
   "name": "python",
   "nbconvert_exporter": "python",
   "pygments_lexer": "ipython2",
   "version": "2.7.18"
  }
 },
 "nbformat": 4,
 "nbformat_minor": 2
}
