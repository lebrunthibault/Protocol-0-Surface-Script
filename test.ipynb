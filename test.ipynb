{
 "cells": [
  {
   "cell_type": "code",
   "execution_count": 1,
   "metadata": {},
   "outputs": [
    {
     "ename": "AttributeError",
     "evalue": "'NoneType' object has no attribute 'log_debug'",
     "output_type": "error",
     "traceback": [
      "\u001b[1;31m---------------------------------------------------------------------------\u001b[0m",
      "\u001b[1;31mAttributeError\u001b[0m                            Traceback (most recent call last)",
      "\u001b[1;32m<ipython-input-1-9861890c1cd2>\u001b[0m in \u001b[0;36m<module>\u001b[1;34m()\u001b[0m\n\u001b[0;32m      9\u001b[0m \u001b[0mt\u001b[0m \u001b[1;33m=\u001b[0m \u001b[0mTest\u001b[0m\u001b[1;33m(\u001b[0m\u001b[1;33m)\u001b[0m\u001b[1;33m\u001b[0m\u001b[0m\n\u001b[0;32m     10\u001b[0m \u001b[1;33m\u001b[0m\u001b[0m\n\u001b[1;32m---> 11\u001b[1;33m \u001b[0mt\u001b[0m\u001b[1;33m.\u001b[0m\u001b[0mtest_log\u001b[0m\u001b[1;33m(\u001b[0m\u001b[1;34m\"toto\"\u001b[0m\u001b[1;33m,\u001b[0m \u001b[1;34m\"titi\"\u001b[0m\u001b[1;33m,\u001b[0m \u001b[0mc\u001b[0m\u001b[1;33m=\u001b[0m\u001b[1;34m\"42\"\u001b[0m\u001b[1;33m)\u001b[0m\u001b[1;33m\u001b[0m\u001b[0m\n\u001b[0m",
      "\u001b[1;32mC:\\ProgramData\\Ableton\\Live 10 Suite\\Resources\\MIDI Remote Scripts\\a_protocol_0\\utils\\decorators.pyc\u001b[0m in \u001b[0;36mdecorate\u001b[1;34m(*a, **k)\u001b[0m\n\u001b[0;32m    245\u001b[0m \u001b[1;33m\u001b[0m\u001b[0m\n\u001b[0;32m    246\u001b[0m         \u001b[1;32mfrom\u001b[0m \u001b[0ma_protocol_0\u001b[0m \u001b[1;32mimport\u001b[0m \u001b[0mProtocol0\u001b[0m\u001b[1;33m\u001b[0m\u001b[0m\n\u001b[1;32m--> 247\u001b[1;33m         \u001b[0mProtocol0\u001b[0m\u001b[1;33m.\u001b[0m\u001b[0mSELF\u001b[0m\u001b[1;33m.\u001b[0m\u001b[0mlog_debug\u001b[0m\u001b[1;33m(\u001b[0m\u001b[0mmessage\u001b[0m\u001b[1;33m,\u001b[0m \u001b[0mdebug\u001b[0m\u001b[1;33m=\u001b[0m\u001b[0mFalse\u001b[0m\u001b[1;33m)\u001b[0m\u001b[1;33m\u001b[0m\u001b[0m\n\u001b[0m\u001b[0;32m    248\u001b[0m         \u001b[0mfunc\u001b[0m\u001b[1;33m(\u001b[0m\u001b[1;33m*\u001b[0m\u001b[0ma\u001b[0m\u001b[1;33m,\u001b[0m \u001b[1;33m**\u001b[0m\u001b[0mk\u001b[0m\u001b[1;33m)\u001b[0m\u001b[1;33m\u001b[0m\u001b[0m\n\u001b[0;32m    249\u001b[0m \u001b[1;33m\u001b[0m\u001b[0m\n",
      "\u001b[1;31mAttributeError\u001b[0m: 'NoneType' object has no attribute 'log_debug'"
     ]
    }
   ],
   "source": [
    "from a_protocol_0.utils.decorators import log\n",
    "\n",
    "class Test():\n",
    "    \n",
    "    @log\n",
    "    def test_log(self, a, b, c=2, d=None):\n",
    "        print(\"exec test_log\")\n",
    "        \n",
    "t = Test()\n",
    "\n",
    "t.test_log(\"toto\", \"titi\", c=\"42\")"
   ]
  },
  {
   "cell_type": "code",
   "execution_count": null,
   "metadata": {},
   "outputs": [],
   "source": [
    "import time\n",
    "\n",
    "start_at = time.time()\n",
    "time.sleep(1.2323)\n",
    "end_at = time.time()\n",
    "\n",
    "print(\"%.3f\" % (start_at - end_at))"
   ]
  },
  {
   "cell_type": "code",
   "execution_count": null,
   "metadata": {},
   "outputs": [],
   "source": [
    "import traceback\n",
    "\n",
    "try:\n",
    "    raise RuntimeError(\"hello\")\n",
    "except (Exception, RuntimeError):\n",
    "    print(traceback.format_exc().splitlines())\n"
   ]
  },
  {
   "cell_type": "code",
   "execution_count": null,
   "metadata": {},
   "outputs": [],
   "source": [
    "\"toto\".splitlines()"
   ]
  },
  {
   "cell_type": "code",
   "execution_count": null,
   "metadata": {},
   "outputs": [],
   "source": [
    "\"%s terminated in %.3fs\" % (\"toto\", 2.3232)"
   ]
  },
  {
   "cell_type": "code",
   "execution_count": null,
   "metadata": {},
   "outputs": [],
   "source": [
    "from functools import partial\n",
    "from collections import deque, Iterable\n",
    "\n",
    "\n",
    "class Toto():\n",
    "    pass\n",
    "\n",
    "t = Toto()\n",
    "t.titi = 2\n",
    "\n",
    "setattr(t, \"titi\", 3)\n",
    "\n",
    "f = partial(setattr, t, \"titi\", 4)\n",
    "f()\n",
    "\n",
    "print(t.titi)\n",
    "\n",
    "\n",
    "\n",
    "isinstance(lambda: True, Iterable)"
   ]
  },
  {
   "cell_type": "code",
   "execution_count": null,
   "metadata": {},
   "outputs": [],
   "source": [
    "from collections import deque, Iterable\n",
    "steps = deque([1, 2, 3])\n",
    "steps[-1]\n",
    "\n",
    "print(0 or 0)"
   ]
  },
  {
   "cell_type": "code",
   "execution_count": 2,
   "metadata": {},
   "outputs": [
    {
     "name": "stdout",
     "output_type": "stream",
     "text": [
      "P0 - info: Protocol0 script loaded\n",
      "P0 - info: seq (test seq) : exec step partial.seq_creator\n",
      "P0 - info: seq (<ipython-input-2-a679d3d527eb>.seq_creator) : exec step seq 2\n",
      "P0 - info: seq (<ipython-input-2-a679d3d527eb>.seq_creator) : exec step seq 1\n",
      "P0 - debug: seq (<ipython-input-2-a679d3d527eb>.seq_creator) _is_condition_seq : False (sequence\\Sequence.py:137 in _terminate)\n",
      "P0 - debug: seq (<ipython-input-2-a679d3d527eb>.seq_creator) (sequence\\Sequence.py:138 in _terminate)\n",
      "P0 - debug: [seq (<ipython-input-2-a679d3d527eb>.seq_creator), seq (test seq)] (sequence\\Sequence.py:139 in _terminate)\n",
      "P0 - info: seq (<ipython-input-2-a679d3d527eb>.seq_creator) terminated successfully\n",
      "P0 - debug: seq (<ipython-input-2-a679d3d527eb>.seq_creator) _is_condition_seq : False (sequence\\Sequence.py:137 in _terminate)\n",
      "P0 - debug: seq (test seq) (sequence\\Sequence.py:138 in _terminate)\n",
      "P0 - debug: [seq (test seq)] (sequence\\Sequence.py:139 in _terminate)\n",
      "P0 - info: seq (<ipython-input-2-a679d3d527eb>.seq_creator) terminated successfully\n",
      "P0 - debug: seq (test seq) _is_condition_seq : False (sequence\\Sequence.py:137 in _terminate)\n",
      "P0 - debug: None (sequence\\Sequence.py:138 in _terminate)\n",
      "P0 - debug: [] (sequence\\Sequence.py:139 in _terminate)\n",
      "P0 - info: seq (test seq) terminated successfully\n",
      "-------\n",
      "False\n",
      "seq (test seq)\n",
      "True\n"
     ]
    }
   ],
   "source": [
    "from functools import partial\n",
    "from a_protocol_0.sequence.Sequence import Sequence\n",
    "\n",
    "from a_protocol_0 import Protocol0, EmptyModule\n",
    "p0 = Protocol0(EmptyModule(is_false=False), init_song=False)\n",
    "\n",
    "def seq_creator(i):\n",
    "    if i == 0:\n",
    "        return None\n",
    "    return Sequence().add(partial(seq_creator, i - 1), name=\"seq %s\" % i).done()\n",
    "\n",
    "with p0.component_guard():\n",
    "    seq = Sequence(name=\"test seq\")\n",
    "    seq.add(partial(seq_creator, 2))\n",
    "    seq.done()()\n",
    "    \n",
    "    print(\"-------\")\n",
    "    print(bool(seq._current_step._seq))\n",
    "    print(seq._current_step._seq)\n",
    "    print(seq._current_step._seq is not None)\n",
    "\n",
    "\n"
   ]
  },
  {
   "cell_type": "code",
   "execution_count": null,
   "metadata": {},
   "outputs": [],
   "source": [
    "d = {\n",
    "    \"a\": True,\n",
    "    \"b\": False\n",
    "}\n",
    "\n",
    "for k, v in d.items():\n",
    "    print(k, v)"
   ]
  }
 ],
 "metadata": {
  "kernelspec": {
   "display_name": "Python 2",
   "language": "python",
   "name": "python2"
  },
  "language_info": {
   "codemirror_mode": {
    "name": "ipython",
    "version": 2
   },
   "file_extension": ".py",
   "mimetype": "text/x-python",
   "name": "python",
   "nbconvert_exporter": "python",
   "pygments_lexer": "ipython2",
   "version": "2.7.18"
  }
 },
 "nbformat": 4,
 "nbformat_minor": 2
}
