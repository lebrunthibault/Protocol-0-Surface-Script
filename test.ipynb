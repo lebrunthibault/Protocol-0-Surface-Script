{
 "cells": [
  {
   "cell_type": "code",
   "execution_count": 1,
   "metadata": {},
   "outputs": [
    {
     "name": "stdout",
     "output_type": "stream",
     "text": [
      "P0 - Test.test_log(\"toto\", \"titi\", c=\"42\")\n",
      "exec test_log\n"
     ]
    }
   ],
   "source": [
    "from a_protocol_0.utils.decorators import log\n",
    "\n",
    "class Test():\n",
    "    \n",
    "    @log\n",
    "    def test_log(self, a, b, c=2, d=None):\n",
    "        print(\"exec test_log\")\n",
    "        \n",
    "t = Test()\n",
    "\n",
    "t.test_log(\"toto\", \"titi\", c=\"42\")"
   ]
  },
  {
   "cell_type": "code",
   "execution_count": 5,
   "metadata": {},
   "outputs": [
    {
     "name": "stdout",
     "output_type": "stream",
     "text": [
      "-1.23\n"
     ]
    }
   ],
   "source": [
    "import time\n",
    "\n",
    "start_at = time.time()\n",
    "time.sleep(1.2323)\n",
    "end_at = time.time()\n",
    "\n",
    "print(\"%.3f\" % (start_at - end_at))"
   ]
  },
  {
   "cell_type": "code",
   "execution_count": 15,
   "metadata": {},
   "outputs": [
    {
     "name": "stdout",
     "output_type": "stream",
     "text": [
      "[u'Traceback (most recent call last):', u'  File \"<ipython-input-15-bb342a565af1>\", line 4, in <module>', u'    raise RuntimeError(\"hello\")', u'RuntimeError: hello']\n"
     ]
    }
   ],
   "source": [
    "import traceback\n",
    "\n",
    "try:\n",
    "    raise RuntimeError(\"hello\")\n",
    "except (Exception, RuntimeError):\n",
    "    print(traceback.format_exc().splitlines())\n"
   ]
  },
  {
   "cell_type": "code",
   "execution_count": 17,
   "metadata": {},
   "outputs": [
    {
     "data": {
      "text/plain": [
       "['toto']"
      ]
     },
     "execution_count": 17,
     "metadata": {},
     "output_type": "execute_result"
    }
   ],
   "source": [
    "\"toto\".splitlines()"
   ]
  },
  {
   "cell_type": "code",
   "execution_count": 18,
   "metadata": {},
   "outputs": [
    {
     "data": {
      "text/plain": [
       "'toto terminated in 2.323s'"
      ]
     },
     "execution_count": 18,
     "metadata": {},
     "output_type": "execute_result"
    }
   ],
   "source": [
    "\"%s terminated in %.3fs\" % (\"toto\", 2.3232)"
   ]
  }
 ],
 "metadata": {
  "kernelspec": {
   "display_name": "Python 2",
   "language": "python",
   "name": "python2"
  },
  "language_info": {
   "codemirror_mode": {
    "name": "ipython",
    "version": 2
   },
   "file_extension": ".py",
   "mimetype": "text/x-python",
   "name": "python",
   "nbconvert_exporter": "python",
   "pygments_lexer": "ipython2",
   "version": "2.7.18"
  }
 },
 "nbformat": 4,
 "nbformat_minor": 2
}
